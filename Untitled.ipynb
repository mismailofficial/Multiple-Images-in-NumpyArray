{
 "cells": [
  {
   "cell_type": "code",
   "execution_count": 13,
   "metadata": {},
   "outputs": [],
   "source": [
    "import cv2\n",
    "import glob\n",
    "import numpy as np"
   ]
  },
  {
   "cell_type": "code",
   "execution_count": 3,
   "metadata": {},
   "outputs": [],
   "source": [
    "images = glob.glob(\"pics\\\\*.jpg\")\n",
    "resized = []"
   ]
  },
  {
   "cell_type": "code",
   "execution_count": 12,
   "metadata": {},
   "outputs": [],
   "source": [
    "for i in images:\n",
    "    img = cv2.imread(i, 1)\n",
    "    re = cv2.resize(img, (512, 512))\n",
    "    resized.append(re)"
   ]
  },
  {
   "cell_type": "code",
   "execution_count": 15,
   "metadata": {},
   "outputs": [],
   "source": [
    "re_img = np.array(re)"
   ]
  },
  {
   "cell_type": "code",
   "execution_count": 16,
   "metadata": {},
   "outputs": [
    {
     "name": "stdout",
     "output_type": "stream",
     "text": [
      "[[[ 23  44  12]\n",
      "  [ 23  44  12]\n",
      "  [ 23  44  12]\n",
      "  ...\n",
      "  [ 48 129   3]\n",
      "  [ 47 128   3]\n",
      "  [ 47 128   3]]\n",
      "\n",
      " [[ 23  44  12]\n",
      "  [ 23  44  12]\n",
      "  [ 23  44  12]\n",
      "  ...\n",
      "  [ 53 134   7]\n",
      "  [ 53 134   7]\n",
      "  [ 53 134   7]]\n",
      "\n",
      " [[ 23  44  12]\n",
      "  [ 23  44  12]\n",
      "  [ 23  44  12]\n",
      "  ...\n",
      "  [ 52 135   3]\n",
      "  [ 52 135   3]\n",
      "  [ 52 135   3]]\n",
      "\n",
      " ...\n",
      "\n",
      " [[ 14  17  15]\n",
      "  [ 14  17  15]\n",
      "  [ 15  18  16]\n",
      "  ...\n",
      "  [ 26  54  11]\n",
      "  [ 26  54  11]\n",
      "  [ 26  54  11]]\n",
      "\n",
      " [[ 14  17  15]\n",
      "  [ 14  17  15]\n",
      "  [ 15  18  16]\n",
      "  ...\n",
      "  [ 26  53  13]\n",
      "  [ 26  54  12]\n",
      "  [ 26  54  11]]\n",
      "\n",
      " [[ 14  17  15]\n",
      "  [ 14  17  15]\n",
      "  [ 15  18  16]\n",
      "  ...\n",
      "  [ 26  53  13]\n",
      "  [ 26  54  11]\n",
      "  [ 26  54  11]]]\n"
     ]
    }
   ],
   "source": [
    "print(re_img)"
   ]
  },
  {
   "cell_type": "code",
   "execution_count": 35,
   "metadata": {},
   "outputs": [],
   "source": [
    "import matplotlib.pylab as plt\n",
    "\n",
    "def plti(im, h=8, **kwargs):\n",
    "    \"\"\"\n",
    "    Helper function to plot an image\n",
    "    \"\"\"\n",
    "    y = 500\n",
    "    x = 500\n",
    "    w = (y/x) * h\n",
    "    plt.figure(figsize=(w,h))\n",
    "    for i in im:\n",
    "        plt.imshow(i, interpolation=\"none\", **kwargs)\n",
    "        plt.axis('off')"
   ]
  },
  {
   "cell_type": "code",
   "execution_count": 36,
   "metadata": {},
   "outputs": [
    {
     "data": {
      "image/png": "[encoded data removed]",
      "text/plain": [
       "<Figure size 576x576 with 1 Axes>"
      ]
     },
     "metadata": {
      "needs_background": "light"
     },
     "output_type": "display_data"
    }
   ],
   "source": [
    "plti(re_img)"
   ]
  },
  {
   "cell_type": "code",
   "execution_count": null,
   "metadata": {},
   "outputs": [],
   "source": []
  }
 ],
 "metadata": {
  "kernelspec": {
   "display_name": "Python 3",
   "language": "python",
   "name": "python3"
  },
  "language_info": {
   "codemirror_mode": {
    "name": "ipython",
    "version": 3
   },
   "file_extension": ".py",
   "mimetype": "text/x-python",
   "name": "python",
   "nbconvert_exporter": "python",
   "pygments_lexer": "ipython3",
   "version": "3.7.3"
  }
 },
 "nbformat": 4,
 "nbformat_minor": 2
}
